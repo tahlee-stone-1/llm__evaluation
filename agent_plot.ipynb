{
 "cells": [
  {
   "cell_type": "code",
   "execution_count": 1,
   "id": "f97dda57",
   "metadata": {},
   "outputs": [
    {
     "data": {
      "application/vnd.plotly.v1+json": {
       "config": {
        "plotlyServerURL": "https://plot.ly"
       },
       "data": [
        {
         "hovertemplate": "<b>Principal Agent</b><br>Overall F1: 0.862<br>Role: Central Router & Coordinator<extra></extra>",
         "marker": {
          "color": "#2C3E50",
          "line": {
           "color": "white",
           "width": 3
          },
          "size": 80
         },
         "mode": "markers+text",
         "name": "Principal",
         "showlegend": false,
         "text": [
          "0.86"
         ],
         "textfont": {
          "color": "white",
          "family": "Calibri",
          "size": 16,
          "style": "normal",
          "variant": "normal"
         },
         "textposition": "middle center",
         "type": "scatter",
         "x": [
          0
         ],
         "y": [
          1
         ]
        },
        {
         "hoverinfo": "skip",
         "mode": "text",
         "showlegend": false,
         "text": [
          "<b>Routes:</b> 100% (942)<br><b>Avg Precision:</b> 0.9<br><b>Avg Recall:</b> 0.8"
         ],
         "textfont": {
          "color": "black",
          "family": "Calibri",
          "size": 10
         },
         "type": "scatter",
         "x": [
          0.6
         ],
         "y": [
          0.8
         ]
        },
        {
         "hovertemplate": "<b>Order Management Agent</b><br>F1 Score: 0.890<br>Precision: 0.920<br>Recall: 0.860<br>Routes: 98<extra></extra>",
         "marker": {
          "color": "#f39c12",
          "line": {
           "color": "white",
           "width": 3
          },
          "size": 60
         },
         "mode": "markers+text",
         "name": "Order Management Agent",
         "showlegend": false,
         "text": [
          "0.89"
         ],
         "textfont": {
          "color": "white",
          "family": "Calibri",
          "size": 14,
          "style": "normal",
          "variant": "normal"
         },
         "textposition": "middle center",
         "type": "scatter",
         "x": [
          -4.5
         ],
         "y": [
          0
         ]
        },
        {
         "hoverinfo": "skip",
         "mode": "text",
         "showlegend": false,
         "text": [
          "<b>Order Management Agent</b>"
         ],
         "textfont": {
          "color": "black",
          "family": "Calibri",
          "size": 10
         },
         "type": "scatter",
         "x": [
          -4.5
         ],
         "y": [
          -0.18
         ]
        },
        {
         "hoverinfo": "skip",
         "mode": "text",
         "showlegend": false,
         "text": [
          "<b>Routes:</b> 10.4% (98)<br><b>Precision:</b> 0.9<br><b>Recall:</b> 0.9"
         ],
         "textfont": {
          "color": "black",
          "family": "Calibri",
          "size": 9
         },
         "type": "scatter",
         "x": [
          -4.5
         ],
         "y": [
          -0.32
         ]
        },
        {
         "hovertemplate": "<b>Refund Processing Agent</b><br>F1 Score: 0.870<br>Precision: 0.900<br>Recall: 0.840<br>Routes: 95<extra></extra>",
         "marker": {
          "color": "#f39c12",
          "line": {
           "color": "white",
           "width": 3
          },
          "size": 60
         },
         "mode": "markers+text",
         "name": "Refund Processing Agent",
         "showlegend": false,
         "text": [
          "0.87"
         ],
         "textfont": {
          "color": "white",
          "family": "Calibri",
          "size": 14,
          "style": "normal",
          "variant": "normal"
         },
         "textposition": "middle center",
         "type": "scatter",
         "x": [
          -3.5
         ],
         "y": [
          0
         ]
        },
        {
         "hoverinfo": "skip",
         "mode": "text",
         "showlegend": false,
         "text": [
          "<b>Refund Processing Agent</b>"
         ],
         "textfont": {
          "color": "black",
          "family": "Calibri",
          "size": 10
         },
         "type": "scatter",
         "x": [
          -3.5
         ],
         "y": [
          -0.18
         ]
        },
        {
         "hoverinfo": "skip",
         "mode": "text",
         "showlegend": false,
         "text": [
          "<b>Routes:</b> 10.1% (95)<br><b>Precision:</b> 0.9<br><b>Recall:</b> 0.8"
         ],
         "textfont": {
          "color": "black",
          "family": "Calibri",
          "size": 9
         },
         "type": "scatter",
         "x": [
          -3.5
         ],
         "y": [
          -0.32
         ]
        },
        {
         "hovertemplate": "<b>Product Information Agent</b><br>F1 Score: 0.930<br>Precision: 0.950<br>Recall: 0.910<br>Routes: 102<extra></extra>",
         "marker": {
          "color": "#2ecc71",
          "line": {
           "color": "white",
           "width": 3
          },
          "size": 60
         },
         "mode": "markers+text",
         "name": "Product Information Agent",
         "showlegend": false,
         "text": [
          "0.93"
         ],
         "textfont": {
          "color": "white",
          "family": "Calibri",
          "size": 14,
          "style": "normal",
          "variant": "normal"
         },
         "textposition": "middle center",
         "type": "scatter",
         "x": [
          -2.5
         ],
         "y": [
          0
         ]
        },
        {
         "hoverinfo": "skip",
         "mode": "text",
         "showlegend": false,
         "text": [
          "<b>Product Information Agent</b>"
         ],
         "textfont": {
          "color": "black",
          "family": "Calibri",
          "size": 10
         },
         "type": "scatter",
         "x": [
          -2.5
         ],
         "y": [
          -0.18
         ]
        },
        {
         "hoverinfo": "skip",
         "mode": "text",
         "showlegend": false,
         "text": [
          "<b>Routes:</b> 10.8% (102)<br><b>Precision:</b> 0.9<br><b>Recall:</b> 0.9"
         ],
         "textfont": {
          "color": "black",
          "family": "Calibri",
          "size": 9
         },
         "type": "scatter",
         "x": [
          -2.5
         ],
         "y": [
          -0.32
         ]
        },
        {
         "hovertemplate": "<b>Shipping Support Agent</b><br>F1 Score: 0.820<br>Precision: 0.850<br>Recall: 0.790<br>Routes: 89<extra></extra>",
         "marker": {
          "color": "#f39c12",
          "line": {
           "color": "white",
           "width": 3
          },
          "size": 60
         },
         "mode": "markers+text",
         "name": "Shipping Support Agent",
         "showlegend": false,
         "text": [
          "0.82"
         ],
         "textfont": {
          "color": "white",
          "family": "Calibri",
          "size": 14,
          "style": "normal",
          "variant": "normal"
         },
         "textposition": "middle center",
         "type": "scatter",
         "x": [
          -1.5
         ],
         "y": [
          0
         ]
        },
        {
         "hoverinfo": "skip",
         "mode": "text",
         "showlegend": false,
         "text": [
          "<b>Shipping Support Agent</b>"
         ],
         "textfont": {
          "color": "black",
          "family": "Calibri",
          "size": 10
         },
         "type": "scatter",
         "x": [
          -1.5
         ],
         "y": [
          -0.18
         ]
        },
        {
         "hoverinfo": "skip",
         "mode": "text",
         "showlegend": false,
         "text": [
          "<b>Routes:</b> 9.4% (89)<br><b>Precision:</b> 0.8<br><b>Recall:</b> 0.8"
         ],
         "textfont": {
          "color": "black",
          "family": "Calibri",
          "size": 9
         },
         "type": "scatter",
         "x": [
          -1.5
         ],
         "y": [
          -0.32
         ]
        },
        {
         "hovertemplate": "<b>Payment Processing Agent</b><br>F1 Score: 0.850<br>Precision: 0.880<br>Recall: 0.820<br>Routes: 93<extra></extra>",
         "marker": {
          "color": "#f39c12",
          "line": {
           "color": "white",
           "width": 3
          },
          "size": 60
         },
         "mode": "markers+text",
         "name": "Payment Processing Agent",
         "showlegend": false,
         "text": [
          "0.85"
         ],
         "textfont": {
          "color": "white",
          "family": "Calibri",
          "size": 14,
          "style": "normal",
          "variant": "normal"
         },
         "textposition": "middle center",
         "type": "scatter",
         "x": [
          -0.5
         ],
         "y": [
          0
         ]
        },
        {
         "hoverinfo": "skip",
         "mode": "text",
         "showlegend": false,
         "text": [
          "<b>Payment Processing Agent</b>"
         ],
         "textfont": {
          "color": "black",
          "family": "Calibri",
          "size": 10
         },
         "type": "scatter",
         "x": [
          -0.5
         ],
         "y": [
          -0.18
         ]
        },
        {
         "hoverinfo": "skip",
         "mode": "text",
         "showlegend": false,
         "text": [
          "<b>Routes:</b> 9.9% (93)<br><b>Precision:</b> 0.9<br><b>Recall:</b> 0.8"
         ],
         "textfont": {
          "color": "black",
          "family": "Calibri",
          "size": 9
         },
         "type": "scatter",
         "x": [
          -0.5
         ],
         "y": [
          -0.32
         ]
        },
        {
         "hovertemplate": "<b>Technical Support Agent</b><br>F1 Score: 0.880<br>Precision: 0.910<br>Recall: 0.850<br>Routes: 97<extra></extra>",
         "marker": {
          "color": "#f39c12",
          "line": {
           "color": "white",
           "width": 3
          },
          "size": 60
         },
         "mode": "markers+text",
         "name": "Technical Support Agent",
         "showlegend": false,
         "text": [
          "0.88"
         ],
         "textfont": {
          "color": "white",
          "family": "Calibri",
          "size": 14,
          "style": "normal",
          "variant": "normal"
         },
         "textposition": "middle center",
         "type": "scatter",
         "x": [
          0.5
         ],
         "y": [
          0
         ]
        },
        {
         "hoverinfo": "skip",
         "mode": "text",
         "showlegend": false,
         "text": [
          "<b>Technical Support Agent</b>"
         ],
         "textfont": {
          "color": "black",
          "family": "Calibri",
          "size": 10
         },
         "type": "scatter",
         "x": [
          0.5
         ],
         "y": [
          -0.18
         ]
        },
        {
         "hoverinfo": "skip",
         "mode": "text",
         "showlegend": false,
         "text": [
          "<b>Routes:</b> 10.3% (97)<br><b>Precision:</b> 0.9<br><b>Recall:</b> 0.8"
         ],
         "textfont": {
          "color": "black",
          "family": "Calibri",
          "size": 9
         },
         "type": "scatter",
         "x": [
          0.5
         ],
         "y": [
          -0.32
         ]
        },
        {
         "hovertemplate": "<b>Account Management Agent</b><br>F1 Score: 0.740<br>Precision: 0.780<br>Recall: 0.710<br>Routes: 78<extra></extra>",
         "marker": {
          "color": "#e74c3c",
          "line": {
           "color": "white",
           "width": 3
          },
          "size": 60
         },
         "mode": "markers+text",
         "name": "Account Management Agent",
         "showlegend": false,
         "text": [
          "0.74"
         ],
         "textfont": {
          "color": "white",
          "family": "Calibri",
          "size": 14,
          "style": "normal",
          "variant": "normal"
         },
         "textposition": "middle center",
         "type": "scatter",
         "x": [
          1.5
         ],
         "y": [
          0
         ]
        },
        {
         "hoverinfo": "skip",
         "mode": "text",
         "showlegend": false,
         "text": [
          "<b>Account Management Agent</b>"
         ],
         "textfont": {
          "color": "black",
          "family": "Calibri",
          "size": 10
         },
         "type": "scatter",
         "x": [
          1.5
         ],
         "y": [
          -0.18
         ]
        },
        {
         "hoverinfo": "skip",
         "mode": "text",
         "showlegend": false,
         "text": [
          "<b>Routes:</b> 8.3% (78)<br><b>Precision:</b> 0.8<br><b>Recall:</b> 0.7"
         ],
         "textfont": {
          "color": "black",
          "family": "Calibri",
          "size": 9
         },
         "type": "scatter",
         "x": [
          1.5
         ],
         "y": [
          -0.32
         ]
        },
        {
         "hovertemplate": "<b>General Inquiry Agent</b><br>F1 Score: 0.940<br>Precision: 0.960<br>Recall: 0.920<br>Routes: 104<extra></extra>",
         "marker": {
          "color": "#2ecc71",
          "line": {
           "color": "white",
           "width": 3
          },
          "size": 60
         },
         "mode": "markers+text",
         "name": "General Inquiry Agent",
         "showlegend": false,
         "text": [
          "0.94"
         ],
         "textfont": {
          "color": "white",
          "family": "Calibri",
          "size": 14,
          "style": "normal",
          "variant": "normal"
         },
         "textposition": "middle center",
         "type": "scatter",
         "x": [
          2.5
         ],
         "y": [
          0
         ]
        },
        {
         "hoverinfo": "skip",
         "mode": "text",
         "showlegend": false,
         "text": [
          "<b>General Inquiry Agent</b>"
         ],
         "textfont": {
          "color": "black",
          "family": "Calibri",
          "size": 10
         },
         "type": "scatter",
         "x": [
          2.5
         ],
         "y": [
          -0.18
         ]
        },
        {
         "hoverinfo": "skip",
         "mode": "text",
         "showlegend": false,
         "text": [
          "<b>Routes:</b> 11.0% (104)<br><b>Precision:</b> 1.0<br><b>Recall:</b> 0.9"
         ],
         "textfont": {
          "color": "black",
          "family": "Calibri",
          "size": 9
         },
         "type": "scatter",
         "x": [
          2.5
         ],
         "y": [
          -0.32
         ]
        },
        {
         "hovertemplate": "<b>Complaint Resolution Agent</b><br>F1 Score: 0.830<br>Precision: 0.860<br>Recall: 0.800<br>Routes: 91<extra></extra>",
         "marker": {
          "color": "#f39c12",
          "line": {
           "color": "white",
           "width": 3
          },
          "size": 60
         },
         "mode": "markers+text",
         "name": "Complaint Resolution Agent",
         "showlegend": false,
         "text": [
          "0.83"
         ],
         "textfont": {
          "color": "white",
          "family": "Calibri",
          "size": 14,
          "style": "normal",
          "variant": "normal"
         },
         "textposition": "middle center",
         "type": "scatter",
         "x": [
          3.5
         ],
         "y": [
          0
         ]
        },
        {
         "hoverinfo": "skip",
         "mode": "text",
         "showlegend": false,
         "text": [
          "<b>Complaint Resolution Agent</b>"
         ],
         "textfont": {
          "color": "black",
          "family": "Calibri",
          "size": 10
         },
         "type": "scatter",
         "x": [
          3.5
         ],
         "y": [
          -0.18
         ]
        },
        {
         "hoverinfo": "skip",
         "mode": "text",
         "showlegend": false,
         "text": [
          "<b>Routes:</b> 9.7% (91)<br><b>Precision:</b> 0.9<br><b>Recall:</b> 0.8"
         ],
         "textfont": {
          "color": "black",
          "family": "Calibri",
          "size": 9
         },
         "type": "scatter",
         "x": [
          3.5
         ],
         "y": [
          -0.32
         ]
        },
        {
         "hovertemplate": "<b>Policy Information Agent</b><br>F1 Score: 0.870<br>Precision: 0.900<br>Recall: 0.840<br>Routes: 95<extra></extra>",
         "marker": {
          "color": "#f39c12",
          "line": {
           "color": "white",
           "width": 3
          },
          "size": 60
         },
         "mode": "markers+text",
         "name": "Policy Information Agent",
         "showlegend": false,
         "text": [
          "0.87"
         ],
         "textfont": {
          "color": "white",
          "family": "Calibri",
          "size": 14,
          "style": "normal",
          "variant": "normal"
         },
         "textposition": "middle center",
         "type": "scatter",
         "x": [
          4.5
         ],
         "y": [
          0
         ]
        },
        {
         "hoverinfo": "skip",
         "mode": "text",
         "showlegend": false,
         "text": [
          "<b>Policy Information Agent</b>"
         ],
         "textfont": {
          "color": "black",
          "family": "Calibri",
          "size": 10
         },
         "type": "scatter",
         "x": [
          4.5
         ],
         "y": [
          -0.18
         ]
        },
        {
         "hoverinfo": "skip",
         "mode": "text",
         "showlegend": false,
         "text": [
          "<b>Routes:</b> 10.1% (95)<br><b>Precision:</b> 0.9<br><b>Recall:</b> 0.8"
         ],
         "textfont": {
          "color": "black",
          "family": "Calibri",
          "size": 9
         },
         "type": "scatter",
         "x": [
          4.5
         ],
         "y": [
          -0.32
         ]
        },
        {
         "hoverinfo": "skip",
         "line": {
          "color": "#95A5A6",
          "width": 1.5
         },
         "mode": "lines",
         "showlegend": false,
         "type": "scatter",
         "x": [
          0,
          0
         ],
         "y": [
          0.95,
          0.6
         ]
        },
        {
         "hoverinfo": "skip",
         "line": {
          "color": "#95A5A6",
          "width": 1
         },
         "mode": "lines",
         "showlegend": false,
         "type": "scatter",
         "x": [
          -4.5,
          4.5
         ],
         "y": [
          0.4,
          0.4
         ]
        },
        {
         "hoverinfo": "skip",
         "line": {
          "color": "#95A5A6",
          "width": 1
         },
         "mode": "lines",
         "showlegend": false,
         "type": "scatter",
         "x": [
          0,
          0
         ],
         "y": [
          0.6,
          0.4
         ]
        },
        {
         "hoverinfo": "skip",
         "line": {
          "color": "#95A5A6",
          "width": 0.8
         },
         "mode": "lines",
         "showlegend": false,
         "type": "scatter",
         "x": [
          -4.5,
          -4.5
         ],
         "y": [
          0.4,
          0.05
         ]
        },
        {
         "hoverinfo": "skip",
         "line": {
          "color": "#95A5A6",
          "width": 0.8
         },
         "mode": "lines",
         "showlegend": false,
         "type": "scatter",
         "x": [
          -3.5,
          -3.5
         ],
         "y": [
          0.4,
          0.05
         ]
        },
        {
         "hoverinfo": "skip",
         "line": {
          "color": "#95A5A6",
          "width": 0.8
         },
         "mode": "lines",
         "showlegend": false,
         "type": "scatter",
         "x": [
          -2.5,
          -2.5
         ],
         "y": [
          0.4,
          0.05
         ]
        },
        {
         "hoverinfo": "skip",
         "line": {
          "color": "#95A5A6",
          "width": 0.8
         },
         "mode": "lines",
         "showlegend": false,
         "type": "scatter",
         "x": [
          -1.5,
          -1.5
         ],
         "y": [
          0.4,
          0.05
         ]
        },
        {
         "hoverinfo": "skip",
         "line": {
          "color": "#95A5A6",
          "width": 0.8
         },
         "mode": "lines",
         "showlegend": false,
         "type": "scatter",
         "x": [
          -0.5,
          -0.5
         ],
         "y": [
          0.4,
          0.05
         ]
        },
        {
         "hoverinfo": "skip",
         "line": {
          "color": "#95A5A6",
          "width": 0.8
         },
         "mode": "lines",
         "showlegend": false,
         "type": "scatter",
         "x": [
          0.5,
          0.5
         ],
         "y": [
          0.4,
          0.05
         ]
        },
        {
         "hoverinfo": "skip",
         "line": {
          "color": "#95A5A6",
          "width": 0.8
         },
         "mode": "lines",
         "showlegend": false,
         "type": "scatter",
         "x": [
          1.5,
          1.5
         ],
         "y": [
          0.4,
          0.05
         ]
        },
        {
         "hoverinfo": "skip",
         "line": {
          "color": "#95A5A6",
          "width": 0.8
         },
         "mode": "lines",
         "showlegend": false,
         "type": "scatter",
         "x": [
          2.5,
          2.5
         ],
         "y": [
          0.4,
          0.05
         ]
        },
        {
         "hoverinfo": "skip",
         "line": {
          "color": "#95A5A6",
          "width": 0.8
         },
         "mode": "lines",
         "showlegend": false,
         "type": "scatter",
         "x": [
          3.5,
          3.5
         ],
         "y": [
          0.4,
          0.05
         ]
        },
        {
         "hoverinfo": "skip",
         "line": {
          "color": "#95A5A6",
          "width": 0.8
         },
         "mode": "lines",
         "showlegend": false,
         "type": "scatter",
         "x": [
          4.5,
          4.5
         ],
         "y": [
          0.4,
          0.05
         ]
        },
        {
         "marker": {
          "color": "#2C3E50",
          "size": 15
         },
         "mode": "markers",
         "name": "Principal",
         "showlegend": true,
         "type": "scatter",
         "x": [
          null
         ],
         "y": [
          null
         ]
        },
        {
         "marker": {
          "color": "#2ecc71",
          "size": 15
         },
         "mode": "markers",
         "name": "High Performance (F1 ≥ 0.90)",
         "showlegend": true,
         "type": "scatter",
         "x": [
          null
         ],
         "y": [
          null
         ]
        },
        {
         "marker": {
          "color": "#f39c12",
          "size": 15
         },
         "mode": "markers",
         "name": "Medium Performance (0.80 ≤ F1 < 0.90)",
         "showlegend": true,
         "type": "scatter",
         "x": [
          null
         ],
         "y": [
          null
         ]
        },
        {
         "marker": {
          "color": "#e74c3c",
          "size": 15
         },
         "mode": "markers",
         "name": "Low Performance (F1 < 0.80)",
         "showlegend": true,
         "type": "scatter",
         "x": [
          null
         ],
         "y": [
          null
         ]
        }
       ],
       "layout": {
        "annotations": [
         {
          "font": {
           "color": "#2C3E50",
           "family": "Calibri",
           "size": 16
          },
          "showarrow": false,
          "text": "<b>Principal Layer</b>",
          "x": 0,
          "y": 1.25
         }
        ],
        "height": 600,
        "legend": {
         "font": {
          "color": "#2C3E50",
          "family": "Calibri",
          "size": 10
         },
         "orientation": "v",
         "x": 1.02,
         "xanchor": "left",
         "y": 0.98,
         "yanchor": "top"
        },
        "margin": {
         "b": 80,
         "l": 50,
         "r": 150,
         "t": 80
        },
        "paper_bgcolor": "white",
        "plot_bgcolor": "white",
        "template": {
         "data": {
          "bar": [
           {
            "error_x": {
             "color": "#2a3f5f"
            },
            "error_y": {
             "color": "#2a3f5f"
            },
            "marker": {
             "line": {
              "color": "#E5ECF6",
              "width": 0.5
             },
             "pattern": {
              "fillmode": "overlay",
              "size": 10,
              "solidity": 0.2
             }
            },
            "type": "bar"
           }
          ],
          "barpolar": [
           {
            "marker": {
             "line": {
              "color": "#E5ECF6",
              "width": 0.5
             },
             "pattern": {
              "fillmode": "overlay",
              "size": 10,
              "solidity": 0.2
             }
            },
            "type": "barpolar"
           }
          ],
          "carpet": [
           {
            "aaxis": {
             "endlinecolor": "#2a3f5f",
             "gridcolor": "white",
             "linecolor": "white",
             "minorgridcolor": "white",
             "startlinecolor": "#2a3f5f"
            },
            "baxis": {
             "endlinecolor": "#2a3f5f",
             "gridcolor": "white",
             "linecolor": "white",
             "minorgridcolor": "white",
             "startlinecolor": "#2a3f5f"
            },
            "type": "carpet"
           }
          ],
          "choropleth": [
           {
            "colorbar": {
             "outlinewidth": 0,
             "ticks": ""
            },
            "type": "choropleth"
           }
          ],
          "contour": [
           {
            "colorbar": {
             "outlinewidth": 0,
             "ticks": ""
            },
            "colorscale": [
             [
              0,
              "#0d0887"
             ],
             [
              0.1111111111111111,
              "#46039f"
             ],
             [
              0.2222222222222222,
              "#7201a8"
             ],
             [
              0.3333333333333333,
              "#9c179e"
             ],
             [
              0.4444444444444444,
              "#bd3786"
             ],
             [
              0.5555555555555556,
              "#d8576b"
             ],
             [
              0.6666666666666666,
              "#ed7953"
             ],
             [
              0.7777777777777778,
              "#fb9f3a"
             ],
             [
              0.8888888888888888,
              "#fdca26"
             ],
             [
              1,
              "#f0f921"
             ]
            ],
            "type": "contour"
           }
          ],
          "contourcarpet": [
           {
            "colorbar": {
             "outlinewidth": 0,
             "ticks": ""
            },
            "type": "contourcarpet"
           }
          ],
          "heatmap": [
           {
            "colorbar": {
             "outlinewidth": 0,
             "ticks": ""
            },
            "colorscale": [
             [
              0,
              "#0d0887"
             ],
             [
              0.1111111111111111,
              "#46039f"
             ],
             [
              0.2222222222222222,
              "#7201a8"
             ],
             [
              0.3333333333333333,
              "#9c179e"
             ],
             [
              0.4444444444444444,
              "#bd3786"
             ],
             [
              0.5555555555555556,
              "#d8576b"
             ],
             [
              0.6666666666666666,
              "#ed7953"
             ],
             [
              0.7777777777777778,
              "#fb9f3a"
             ],
             [
              0.8888888888888888,
              "#fdca26"
             ],
             [
              1,
              "#f0f921"
             ]
            ],
            "type": "heatmap"
           }
          ],
          "histogram": [
           {
            "marker": {
             "pattern": {
              "fillmode": "overlay",
              "size": 10,
              "solidity": 0.2
             }
            },
            "type": "histogram"
           }
          ],
          "histogram2d": [
           {
            "colorbar": {
             "outlinewidth": 0,
             "ticks": ""
            },
            "colorscale": [
             [
              0,
              "#0d0887"
             ],
             [
              0.1111111111111111,
              "#46039f"
             ],
             [
              0.2222222222222222,
              "#7201a8"
             ],
             [
              0.3333333333333333,
              "#9c179e"
             ],
             [
              0.4444444444444444,
              "#bd3786"
             ],
             [
              0.5555555555555556,
              "#d8576b"
             ],
             [
              0.6666666666666666,
              "#ed7953"
             ],
             [
              0.7777777777777778,
              "#fb9f3a"
             ],
             [
              0.8888888888888888,
              "#fdca26"
             ],
             [
              1,
              "#f0f921"
             ]
            ],
            "type": "histogram2d"
           }
          ],
          "histogram2dcontour": [
           {
            "colorbar": {
             "outlinewidth": 0,
             "ticks": ""
            },
            "colorscale": [
             [
              0,
              "#0d0887"
             ],
             [
              0.1111111111111111,
              "#46039f"
             ],
             [
              0.2222222222222222,
              "#7201a8"
             ],
             [
              0.3333333333333333,
              "#9c179e"
             ],
             [
              0.4444444444444444,
              "#bd3786"
             ],
             [
              0.5555555555555556,
              "#d8576b"
             ],
             [
              0.6666666666666666,
              "#ed7953"
             ],
             [
              0.7777777777777778,
              "#fb9f3a"
             ],
             [
              0.8888888888888888,
              "#fdca26"
             ],
             [
              1,
              "#f0f921"
             ]
            ],
            "type": "histogram2dcontour"
           }
          ],
          "mesh3d": [
           {
            "colorbar": {
             "outlinewidth": 0,
             "ticks": ""
            },
            "type": "mesh3d"
           }
          ],
          "parcoords": [
           {
            "line": {
             "colorbar": {
              "outlinewidth": 0,
              "ticks": ""
             }
            },
            "type": "parcoords"
           }
          ],
          "pie": [
           {
            "automargin": true,
            "type": "pie"
           }
          ],
          "scatter": [
           {
            "fillpattern": {
             "fillmode": "overlay",
             "size": 10,
             "solidity": 0.2
            },
            "type": "scatter"
           }
          ],
          "scatter3d": [
           {
            "line": {
             "colorbar": {
              "outlinewidth": 0,
              "ticks": ""
             }
            },
            "marker": {
             "colorbar": {
              "outlinewidth": 0,
              "ticks": ""
             }
            },
            "type": "scatter3d"
           }
          ],
          "scattercarpet": [
           {
            "marker": {
             "colorbar": {
              "outlinewidth": 0,
              "ticks": ""
             }
            },
            "type": "scattercarpet"
           }
          ],
          "scattergeo": [
           {
            "marker": {
             "colorbar": {
              "outlinewidth": 0,
              "ticks": ""
             }
            },
            "type": "scattergeo"
           }
          ],
          "scattergl": [
           {
            "marker": {
             "colorbar": {
              "outlinewidth": 0,
              "ticks": ""
             }
            },
            "type": "scattergl"
           }
          ],
          "scattermap": [
           {
            "marker": {
             "colorbar": {
              "outlinewidth": 0,
              "ticks": ""
             }
            },
            "type": "scattermap"
           }
          ],
          "scattermapbox": [
           {
            "marker": {
             "colorbar": {
              "outlinewidth": 0,
              "ticks": ""
             }
            },
            "type": "scattermapbox"
           }
          ],
          "scatterpolar": [
           {
            "marker": {
             "colorbar": {
              "outlinewidth": 0,
              "ticks": ""
             }
            },
            "type": "scatterpolar"
           }
          ],
          "scatterpolargl": [
           {
            "marker": {
             "colorbar": {
              "outlinewidth": 0,
              "ticks": ""
             }
            },
            "type": "scatterpolargl"
           }
          ],
          "scatterternary": [
           {
            "marker": {
             "colorbar": {
              "outlinewidth": 0,
              "ticks": ""
             }
            },
            "type": "scatterternary"
           }
          ],
          "surface": [
           {
            "colorbar": {
             "outlinewidth": 0,
             "ticks": ""
            },
            "colorscale": [
             [
              0,
              "#0d0887"
             ],
             [
              0.1111111111111111,
              "#46039f"
             ],
             [
              0.2222222222222222,
              "#7201a8"
             ],
             [
              0.3333333333333333,
              "#9c179e"
             ],
             [
              0.4444444444444444,
              "#bd3786"
             ],
             [
              0.5555555555555556,
              "#d8576b"
             ],
             [
              0.6666666666666666,
              "#ed7953"
             ],
             [
              0.7777777777777778,
              "#fb9f3a"
             ],
             [
              0.8888888888888888,
              "#fdca26"
             ],
             [
              1,
              "#f0f921"
             ]
            ],
            "type": "surface"
           }
          ],
          "table": [
           {
            "cells": {
             "fill": {
              "color": "#EBF0F8"
             },
             "line": {
              "color": "white"
             }
            },
            "header": {
             "fill": {
              "color": "#C8D4E3"
             },
             "line": {
              "color": "white"
             }
            },
            "type": "table"
           }
          ]
         },
         "layout": {
          "annotationdefaults": {
           "arrowcolor": "#2a3f5f",
           "arrowhead": 0,
           "arrowwidth": 1
          },
          "autotypenumbers": "strict",
          "coloraxis": {
           "colorbar": {
            "outlinewidth": 0,
            "ticks": ""
           }
          },
          "colorscale": {
           "diverging": [
            [
             0,
             "#8e0152"
            ],
            [
             0.1,
             "#c51b7d"
            ],
            [
             0.2,
             "#de77ae"
            ],
            [
             0.3,
             "#f1b6da"
            ],
            [
             0.4,
             "#fde0ef"
            ],
            [
             0.5,
             "#f7f7f7"
            ],
            [
             0.6,
             "#e6f5d0"
            ],
            [
             0.7,
             "#b8e186"
            ],
            [
             0.8,
             "#7fbc41"
            ],
            [
             0.9,
             "#4d9221"
            ],
            [
             1,
             "#276419"
            ]
           ],
           "sequential": [
            [
             0,
             "#0d0887"
            ],
            [
             0.1111111111111111,
             "#46039f"
            ],
            [
             0.2222222222222222,
             "#7201a8"
            ],
            [
             0.3333333333333333,
             "#9c179e"
            ],
            [
             0.4444444444444444,
             "#bd3786"
            ],
            [
             0.5555555555555556,
             "#d8576b"
            ],
            [
             0.6666666666666666,
             "#ed7953"
            ],
            [
             0.7777777777777778,
             "#fb9f3a"
            ],
            [
             0.8888888888888888,
             "#fdca26"
            ],
            [
             1,
             "#f0f921"
            ]
           ],
           "sequentialminus": [
            [
             0,
             "#0d0887"
            ],
            [
             0.1111111111111111,
             "#46039f"
            ],
            [
             0.2222222222222222,
             "#7201a8"
            ],
            [
             0.3333333333333333,
             "#9c179e"
            ],
            [
             0.4444444444444444,
             "#bd3786"
            ],
            [
             0.5555555555555556,
             "#d8576b"
            ],
            [
             0.6666666666666666,
             "#ed7953"
            ],
            [
             0.7777777777777778,
             "#fb9f3a"
            ],
            [
             0.8888888888888888,
             "#fdca26"
            ],
            [
             1,
             "#f0f921"
            ]
           ]
          },
          "colorway": [
           "#636efa",
           "#EF553B",
           "#00cc96",
           "#ab63fa",
           "#FFA15A",
           "#19d3f3",
           "#FF6692",
           "#B6E880",
           "#FF97FF",
           "#FECB52"
          ],
          "font": {
           "color": "#2a3f5f"
          },
          "geo": {
           "bgcolor": "white",
           "lakecolor": "white",
           "landcolor": "#E5ECF6",
           "showlakes": true,
           "showland": true,
           "subunitcolor": "white"
          },
          "hoverlabel": {
           "align": "left"
          },
          "hovermode": "closest",
          "mapbox": {
           "style": "light"
          },
          "paper_bgcolor": "white",
          "plot_bgcolor": "#E5ECF6",
          "polar": {
           "angularaxis": {
            "gridcolor": "white",
            "linecolor": "white",
            "ticks": ""
           },
           "bgcolor": "#E5ECF6",
           "radialaxis": {
            "gridcolor": "white",
            "linecolor": "white",
            "ticks": ""
           }
          },
          "scene": {
           "xaxis": {
            "backgroundcolor": "#E5ECF6",
            "gridcolor": "white",
            "gridwidth": 2,
            "linecolor": "white",
            "showbackground": true,
            "ticks": "",
            "zerolinecolor": "white"
           },
           "yaxis": {
            "backgroundcolor": "#E5ECF6",
            "gridcolor": "white",
            "gridwidth": 2,
            "linecolor": "white",
            "showbackground": true,
            "ticks": "",
            "zerolinecolor": "white"
           },
           "zaxis": {
            "backgroundcolor": "#E5ECF6",
            "gridcolor": "white",
            "gridwidth": 2,
            "linecolor": "white",
            "showbackground": true,
            "ticks": "",
            "zerolinecolor": "white"
           }
          },
          "shapedefaults": {
           "line": {
            "color": "#2a3f5f"
           }
          },
          "ternary": {
           "aaxis": {
            "gridcolor": "white",
            "linecolor": "white",
            "ticks": ""
           },
           "baxis": {
            "gridcolor": "white",
            "linecolor": "white",
            "ticks": ""
           },
           "bgcolor": "#E5ECF6",
           "caxis": {
            "gridcolor": "white",
            "linecolor": "white",
            "ticks": ""
           }
          },
          "title": {
           "x": 0.05
          },
          "xaxis": {
           "automargin": true,
           "gridcolor": "white",
           "linecolor": "white",
           "ticks": "",
           "title": {
            "standoff": 15
           },
           "zerolinecolor": "white",
           "zerolinewidth": 2
          },
          "yaxis": {
           "automargin": true,
           "gridcolor": "white",
           "linecolor": "white",
           "ticks": "",
           "title": {
            "standoff": 15
           },
           "zerolinecolor": "white",
           "zerolinewidth": 2
          }
         }
        },
        "title": {
         "font": {
          "color": "#2C3E50",
          "family": "Calibri",
          "size": 20
         },
         "text": "<b>Hierarchical Multi-Agent System Architecture</b>",
         "x": 0.5
        },
        "width": 1400,
        "xaxis": {
         "range": [
          -5,
          5
         ],
         "showgrid": false,
         "showticklabels": false,
         "zeroline": false
        },
        "yaxis": {
         "range": [
          -0.5,
          1.4
         ],
         "showgrid": false,
         "showticklabels": false,
         "zeroline": false
        }
       }
      }
     },
     "metadata": {},
     "output_type": "display_data"
    }
   ],
   "source": [
    "# In your Jupyter notebook:\n",
    "#from graphs_agent import *\n",
    "from agent_plots import *\n",
    "# Create visualizer and show basic chart\n",
    "visualizer = HierarchicalAgentPlotly()\n",
    "fig = visualizer.create_hierarchy_diagram()\n",
    "fig.show()\n",
    "\n",
    "\n",
    "#fig = visualizer.create_hierarchy_diagram(principal_font_size=20, agent_font_size=18)\n",
    "#fig.show()"
   ]
  },
  {
   "cell_type": "code",
   "execution_count": 2,
   "id": "77eb70e5",
   "metadata": {},
   "outputs": [
    {
     "name": "stdout",
     "output_type": "stream",
     "text": [
      "Requirement already satisfied: plotly in c:\\users\\tahle\\appdata\\local\\programs\\python\\python313\\lib\\site-packages (6.2.0)\n",
      "Requirement already satisfied: narwhals>=1.15.1 in c:\\users\\tahle\\appdata\\local\\programs\\python\\python313\\lib\\site-packages (from plotly) (1.46.0)\n",
      "Requirement already satisfied: packaging in c:\\users\\tahle\\appdata\\roaming\\python\\python313\\site-packages (from plotly) (25.0)\n",
      "Note: you may need to restart the kernel to use updated packages.\n"
     ]
    }
   ],
   "source": [
    "pip install plotly "
   ]
  }
 ],
 "metadata": {
  "kernelspec": {
   "display_name": "Python 3",
   "language": "python",
   "name": "python3"
  },
  "language_info": {
   "codemirror_mode": {
    "name": "ipython",
    "version": 3
   },
   "file_extension": ".py",
   "mimetype": "text/x-python",
   "name": "python",
   "nbconvert_exporter": "python",
   "pygments_lexer": "ipython3",
   "version": "3.13.4"
  }
 },
 "nbformat": 4,
 "nbformat_minor": 5
}
